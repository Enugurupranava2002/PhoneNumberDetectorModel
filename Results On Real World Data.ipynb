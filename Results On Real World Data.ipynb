{
 "cells": [
  {
   "cell_type": "code",
   "execution_count": 1,
   "metadata": {},
   "outputs": [],
   "source": [
    "import numpy as np\n",
    "import matplotlib\n",
    "from matplotlib import pyplot as plt\n",
    "import pandas as pd\n",
    "import cv2\n",
    "import os\n",
    "\n",
    "import torch\n",
    "import torch.nn as nn\n",
    "import torch.nn.functional as F\n",
    "\n",
    "from torch.utils.data import Dataset, DataLoader\n",
    "from torchvision import transforms, utils\n",
    "\n",
    "from data_load import PhoneNumberDataset\n",
    "from data_load import Normalize, Gray_scale_Image, ToTensor, Gray_scale_to_Binary, BoundingBoxes, Inversion\n",
    "\n",
    "data_transform = [Gray_scale_Image(), Inversion(), Gray_scale_to_Binary(), BoundingBoxes(), ToTensor()]\n",
    "\n",
    "assert(data_transform is not None)"
   ]
  },
  {
   "cell_type": "code",
   "execution_count": 2,
   "metadata": {},
   "outputs": [
    {
     "data": {
      "text/plain": [
       "Net(\n",
       "  (conv1): Conv2d(1, 64, kernel_size=(3, 3), stride=(1, 1))\n",
       "  (maxPool1): MaxPool2d(kernel_size=2, stride=2, padding=0, dilation=1, ceil_mode=False)\n",
       "  (conv2): Conv2d(64, 64, kernel_size=(3, 3), stride=(1, 1))\n",
       "  (mpool1): MaxPool2d(kernel_size=2, stride=2, padding=0, dilation=1, ceil_mode=False)\n",
       "  (fc1): Linear(in_features=1600, out_features=80, bias=True)\n",
       "  (fc1_drop): Dropout(p=0.2, inplace=False)\n",
       "  (fc2): Linear(in_features=80, out_features=10, bias=True)\n",
       ")"
      ]
     },
     "execution_count": 2,
     "metadata": {},
     "output_type": "execute_result"
    }
   ],
   "source": [
    "net = torch.load(\"data\\models\\model_basic\\modelWith2EpochOperaAppliedOnEachDigitBatchSize320.pth\")\n",
    "net.eval()"
   ]
  },
  {
   "cell_type": "code",
   "execution_count": 3,
   "metadata": {},
   "outputs": [
    {
     "name": "stdout",
     "output_type": "stream",
     "text": [
      "shape of original image: (256, 1150, 3)\n"
     ]
    }
   ],
   "source": [
    "img = cv2.imread(\"data\\Real_World_Data\\i3.jpg\")\n",
    "img_copy = img.copy()\n",
    "print(f\"shape of original image: {img.shape}\")\n",
    "for j, fx in enumerate(data_transform):\n",
    "    img_copy = fx(img_copy)"
   ]
  },
  {
   "cell_type": "code",
   "execution_count": 4,
   "metadata": {},
   "outputs": [],
   "source": [
    "def net_sample_output(img):\n",
    "    images = img\n",
    "    images = images.type(torch.FloatTensor)\n",
    "    output_digits = net(images)\n",
    "    output_digits = torch.argmax(output_digits, dim=1)\n",
    "    output_digits = output_digits.view(output_digits.size()[0], -1)\n",
    "    return output_digits"
   ]
  },
  {
   "cell_type": "code",
   "execution_count": 5,
   "metadata": {},
   "outputs": [
    {
     "name": "stdout",
     "output_type": "stream",
     "text": [
      "[1 7 3 4 5 6 7 8 9 0]\n"
     ]
    }
   ],
   "source": [
    "phone_number = torch.reshape(net_sample_output(img_copy), (1 ,10))\n",
    "cv2.namedWindow(\"Real image\", cv2.WINDOW_NORMAL)\n",
    "cv2.resizeWindow(\"Real image\",335, 2786)\n",
    "cv2.imshow(\"Real image\", img)\n",
    "print(phone_number.numpy()[0])\n",
    "cv2.waitKey(0)\n",
    "cv2.destroyAllWindows()"
   ]
  },
  {
   "cell_type": "markdown",
   "metadata": {},
   "source": [
    "## Visualizing preprocessed image"
   ]
  },
  {
   "cell_type": "code",
   "execution_count": 6,
   "metadata": {},
   "outputs": [],
   "source": [
    "for j,digit in enumerate(img_copy):\n",
    "    cv2.namedWindow(f\"digit{j}\", cv2.WINDOW_NORMAL)\n",
    "    cv2.resizeWindow(f\"digit{j}\",100, 100)\n",
    "    cv2.imshow(f\"digit{j}\", digit.data.numpy())\n",
    "cv2.waitKey(0)\n",
    "cv2.destroyAllWindows()"
   ]
  },
  {
   "cell_type": "code",
   "execution_count": null,
   "metadata": {},
   "outputs": [],
   "source": []
  }
 ],
 "metadata": {
  "kernelspec": {
   "display_name": "Python 3.8.5 ('base')",
   "language": "python",
   "name": "python3"
  },
  "language_info": {
   "codemirror_mode": {
    "name": "ipython",
    "version": 3
   },
   "file_extension": ".py",
   "mimetype": "text/x-python",
   "name": "python",
   "nbconvert_exporter": "python",
   "pygments_lexer": "ipython3",
   "version": "3.8.5"
  },
  "orig_nbformat": 4,
  "vscode": {
   "interpreter": {
    "hash": "0bc6de047e58dac5738e6fd71455bb891a228ea6d3201e9c8a63259fc0a2df17"
   }
  }
 },
 "nbformat": 4,
 "nbformat_minor": 2
}
