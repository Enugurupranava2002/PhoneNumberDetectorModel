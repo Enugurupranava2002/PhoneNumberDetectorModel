{
 "cells": [
  {
   "cell_type": "code",
   "execution_count": 1,
   "metadata": {},
   "outputs": [],
   "source": [
    "import glob\n",
    "import os\n",
    "import numpy as np\n",
    "import pandas as pd\n",
    "from skimage import io\n",
    "from matplotlib import pyplot as plt\n",
    "import torchvision\n",
    "import cv2\n"
   ]
  },
  {
   "cell_type": "code",
   "execution_count": 2,
   "metadata": {},
   "outputs": [
    {
     "name": "stdout",
     "output_type": "stream",
     "text": [
      "Image name:  phoneNumberImage1.png\n",
      "Phone number:  529750676\n"
     ]
    }
   ],
   "source": [
    "phone_num_dataset = pd.read_csv(\"data\\phone_numbers_dataset.csv\")\n",
    "\n",
    "id = 1\n",
    "image_name = phone_num_dataset.iloc[id, 0]\n",
    "phone_number = str(phone_num_dataset.iloc[id, 1])\n",
    "\n",
    "print('Image name: ', image_name)\n",
    "print('Phone number: ',phone_number)"
   ]
  },
  {
   "cell_type": "code",
   "execution_count": 3,
   "metadata": {},
   "outputs": [
    {
     "data": {
      "text/html": [
       "<div>\n",
       "<style scoped>\n",
       "    .dataframe tbody tr th:only-of-type {\n",
       "        vertical-align: middle;\n",
       "    }\n",
       "\n",
       "    .dataframe tbody tr th {\n",
       "        vertical-align: top;\n",
       "    }\n",
       "\n",
       "    .dataframe thead th {\n",
       "        text-align: right;\n",
       "    }\n",
       "</style>\n",
       "<table border=\"1\" class=\"dataframe\">\n",
       "  <thead>\n",
       "    <tr style=\"text-align: right;\">\n",
       "      <th></th>\n",
       "      <th>image_id</th>\n",
       "      <th>phone_number</th>\n",
       "    </tr>\n",
       "  </thead>\n",
       "  <tbody>\n",
       "    <tr>\n",
       "      <th>0</th>\n",
       "      <td>phoneNumberImage0.png</td>\n",
       "      <td>6420513217</td>\n",
       "    </tr>\n",
       "    <tr>\n",
       "      <th>1</th>\n",
       "      <td>phoneNumberImage1.png</td>\n",
       "      <td>529750676</td>\n",
       "    </tr>\n",
       "    <tr>\n",
       "      <th>2</th>\n",
       "      <td>phoneNumberImage2.png</td>\n",
       "      <td>1129451587</td>\n",
       "    </tr>\n",
       "    <tr>\n",
       "      <th>3</th>\n",
       "      <td>phoneNumberImage3.png</td>\n",
       "      <td>1889324881</td>\n",
       "    </tr>\n",
       "    <tr>\n",
       "      <th>4</th>\n",
       "      <td>phoneNumberImage4.png</td>\n",
       "      <td>8296078985</td>\n",
       "    </tr>\n",
       "  </tbody>\n",
       "</table>\n",
       "</div>"
      ],
      "text/plain": [
       "                image_id  phone_number\n",
       "0  phoneNumberImage0.png    6420513217\n",
       "1  phoneNumberImage1.png     529750676\n",
       "2  phoneNumberImage2.png    1129451587\n",
       "3  phoneNumberImage3.png    1889324881\n",
       "4  phoneNumberImage4.png    8296078985"
      ]
     },
     "metadata": {},
     "output_type": "display_data"
    }
   ],
   "source": [
    "display(phone_num_dataset.head())"
   ]
  },
  {
   "cell_type": "code",
   "execution_count": 4,
   "metadata": {},
   "outputs": [
    {
     "name": "stdout",
     "output_type": "stream",
     "text": [
      "Number of Images in dataset:  40000\n"
     ]
    }
   ],
   "source": [
    "print(\"Number of Images in dataset: \", phone_num_dataset.shape[0])"
   ]
  },
  {
   "cell_type": "markdown",
   "metadata": {},
   "source": [
    "## Look at some images"
   ]
  },
  {
   "cell_type": "code",
   "execution_count": 5,
   "metadata": {},
   "outputs": [],
   "source": [
    "def show_Image(image):\n",
    "    plt.imshow(image, cmap='gray')"
   ]
  },
  {
   "cell_type": "code",
   "execution_count": 6,
   "metadata": {},
   "outputs": [
    {
     "name": "stdout",
     "output_type": "stream",
     "text": [
      "phoneNumberImage0.png\n"
     ]
    }
   ],
   "source": [
    "image_name = phone_num_dataset.loc[0, 'image_id']\n",
    "print(image_name)"
   ]
  },
  {
   "cell_type": "code",
   "execution_count": 7,
   "metadata": {},
   "outputs": [
    {
     "data": {
      "image/png": "[encoded data removed]",
      "text/plain": [
       "<Figure size 432x288 with 1 Axes>"
      ]
     },
     "metadata": {
      "needs_background": "light"
     },
     "output_type": "display_data"
    }
   ],
   "source": [
    "i = 10\n",
    "image_name = phone_num_dataset.loc[i, 'image_id']\n",
    "phone_number = str(phone_num_dataset.loc[i, 'phone_number'])\n",
    "if(len(phone_number) != 10):\n",
    "    s = '0' * (10 - len(phone_number))\n",
    "    phone_number = s + phone_number\n",
    "display_image = cv2.imread(os.path.join('data\\phone_number_images\\\\', image_name))\n",
    "show_Image(display_image)"
   ]
  },
  {
   "cell_type": "code",
   "execution_count": 8,
   "metadata": {},
   "outputs": [
    {
     "name": "stdout",
     "output_type": "stream",
     "text": [
      "Phone Number:  0676216091\n"
     ]
    }
   ],
   "source": [
    "print(\"Phone Number: \", phone_number)"
   ]
  },
  {
   "cell_type": "markdown",
   "metadata": {},
   "source": [
    "# Dataset class and Transformations"
   ]
  },
  {
   "cell_type": "code",
   "execution_count": 9,
   "metadata": {},
   "outputs": [],
   "source": [
    "from torch.utils.data import Dataset, DataLoader\n",
    "\n",
    "class PhoneNumberDataset(Dataset):\n",
    "    def __init__(self, csv_file, root_dir, transform=None):\n",
    "        self.root_dir = root_dir\n",
    "        self.phone_numbers_frame = pd.read_csv(csv_file)\n",
    "        self.trasform = transform\n",
    "    def __len__(self):\n",
    "        return len(self.phone_numbers_frame)\n",
    "    def __getitem__(self, idx):\n",
    "        image_name = os.path.join(self.root_dir, self.phone_numbers_frame.iloc[idx, 0])\n",
    "        \n",
    "        image = cv2.imread(image_name)\n",
    "        if(image.shape[2] == 4):\n",
    "            image = image[:, :, 0:3]\n",
    "        \n",
    "        phone_number = str(self.phone_numbers_frame.iloc[idx, 1])\n",
    "        if(len(phone_number) != 10):\n",
    "            s = '0' * (10 - len(phone_number))\n",
    "            phone_number = s + phone_number\n",
    "        sample = {'image' : image, 'phone_number' : phone_number}\n",
    "\n",
    "        if self.trasform:\n",
    "            sample = self.trasform(sample)\n",
    "\n",
    "        return sample"
   ]
  },
  {
   "cell_type": "code",
   "execution_count": 10,
   "metadata": {},
   "outputs": [
    {
     "name": "stdout",
     "output_type": "stream",
     "text": [
      "Length of dataset:  40000\n"
     ]
    }
   ],
   "source": [
    "Number_dataset = PhoneNumberDataset(csv_file=\"data\\phone_numbers_dataset.csv\",\n",
    "root_dir='data\\phone_number_images\\\\')\n",
    "\n",
    "print('Length of dataset: ', len(Number_dataset))"
   ]
  },
  {
   "cell_type": "code",
   "execution_count": 11,
   "metadata": {},
   "outputs": [
    {
     "name": "stdout",
     "output_type": "stream",
     "text": [
      "0 (28, 280, 3)\n",
      "1 (28, 280, 3)\n",
      "2 (28, 280, 3)\n"
     ]
    },
    {
     "data": {
      "image/png": "[encoded data removed]",
      "text/plain": [
       "<Figure size 1440x720 with 1 Axes>"
      ]
     },
     "metadata": {
      "needs_background": "light"
     },
     "output_type": "display_data"
    },
    {
     "data": {
      "image/png": "[encoded data removed]",
      "text/plain": [
       "<Figure size 1440x720 with 1 Axes>"
      ]
     },
     "metadata": {
      "needs_background": "light"
     },
     "output_type": "display_data"
    },
    {
     "data": {
      "image/png": "[encoded data removed]",
      "text/plain": [
       "<Figure size 1440x720 with 1 Axes>"
      ]
     },
     "metadata": {
      "needs_background": "light"
     },
     "output_type": "display_data"
    }
   ],
   "source": [
    "num_to_display = 3\n",
    "\n",
    "for i in range(num_to_display):\n",
    "    fig = plt.figure(figsize=(20, 10))\n",
    "    rand_i = np.random.randint(0, len(Number_dataset))\n",
    "    sample = Number_dataset[rand_i]\n",
    "    phone_number = sample['phone_number']\n",
    "    print(i, sample['image'].shape)\n",
    "    ax = plt.subplot(1, num_to_display, i + 1)\n",
    "    ax.set_title(f'Sample Image #{i}\\nPhone Number: {phone_number}')\n",
    "    show_Image(sample['image'])"
   ]
  },
  {
   "cell_type": "markdown",
   "metadata": {},
   "source": [
    "# Transforms"
   ]
  },
  {
   "cell_type": "code",
   "execution_count": 12,
   "metadata": {},
   "outputs": [],
   "source": [
    "import torch\n",
    "from torchvision import transforms, utils\n",
    "\n",
    "class Gray_scale_Image(object):\n",
    "    def __call__(self, sample):\n",
    "        image, phone_number = sample['image'], sample['phone_number']\n",
    "        image_copy = np.copy(image)\n",
    "        image_copy = cv2.cvtColor(image_copy, cv2.COLOR_RGB2GRAY)\n",
    "        return {'image': image_copy, 'phone_number': phone_number}\n",
    "\n",
    "class Normalize(object):\n",
    "    def __call__(self, sample):\n",
    "        grayScaleConverter = Gray_scale_Image()\n",
    "        sample = grayScaleConverter(sample)\n",
    "        image, phone_number = sample['image'], sample['phone_number']\n",
    "        image_copy = np.copy(image)\n",
    "        image_copy = image_copy / 255.0\n",
    "        return {'image': image_copy, 'phone_number': phone_number}\n",
    "\n",
    "class Gray_scale_to_Binary(object):\n",
    "    def __call__(self, sample):\n",
    "        if isinstance(sample, dict):\n",
    "            image, phone_number = sample['image'], sample['phone_number']\n",
    "            image_copy = np.copy(image)\n",
    "            _, image_copy = cv2.threshold(image_copy, 0, 255, cv2.THRESH_BINARY+cv2.THRESH_OTSU)\n",
    "            return {'image': image_copy, 'phone_number': phone_number}\n",
    "        else:\n",
    "            image_copy = np.copy(sample)\n",
    "            _, image_copy = cv2.threshold(image_copy, 0, 255, cv2.THRESH_BINARY+cv2.THRESH_OTSU)\n",
    "            return image_copy\n",
    "\n",
    "class Rescale(object):\n",
    "    def __init__(self, output_size):\n",
    "        assert isinstance(output_size, (int, tuple))\n",
    "        self.output_size = output_size\n",
    "\n",
    "    def __call__(self, image):\n",
    "        h, w = image.shape[:2]\n",
    "        if isinstance(self.output_size, int):\n",
    "            if h > w:\n",
    "                new_h, new_w = self.output_size * h / w, self.output_size\n",
    "            else:\n",
    "                new_h, new_w = self.output_size, self.output_size * w / h\n",
    "        else:\n",
    "            new_h, new_w = self.output_size\n",
    "        new_h, new_w = int(new_h), int(new_w)\n",
    "        img = cv2.resize(image, (new_w, new_h))\n",
    "        return img\n",
    "\n",
    "class Dilation(object):\n",
    "    def __call__(self, image):\n",
    "        image_copy = np.copy(image)\n",
    "        kernel = np.ones((3,3), np.uint8)\n",
    "        image_copy = cv2.dilate(image_copy, kernel, iterations=1)\n",
    "        return image_copy\n",
    "\n",
    "class MedianFilter(object):\n",
    "    def __call__(self, sample):\n",
    "        if isinstance(sample, dict):\n",
    "            image, phone_number = sample['image'], sample['phone_number']\n",
    "            image_copy = np.copy(image)\n",
    "            image_copy = cv2.medianBlur(image_copy, 3)\n",
    "            return {'image': image_copy, 'phone_number': phone_number}\n",
    "        else:\n",
    "            image_copy = np.copy(sample)\n",
    "            image_copy = cv2.medianBlur(image_copy, 3)\n",
    "            return image_copy\n",
    "\n",
    "class Erosion(object):\n",
    "    def __call__(self, image):\n",
    "        image_copy = np.copy(image)\n",
    "        kernel = np.ones((3,3), np.uint8)\n",
    "        image_copy = cv2.erode(image_copy, kernel, iterations=1)\n",
    "        return image_copy\n",
    "\n",
    "class BoundingBoxes(object):\n",
    "    def __call__(self, sample):\n",
    "        image, phone_number = sample['image'], sample['phone_number']\n",
    "        rescale = Rescale((28, 28))\n",
    "        image_copy = np.copy(image)\n",
    "        contours, heirarchy = cv2.findContours(image, cv2.RETR_CCOMP, cv2.CHAIN_APPROX_SIMPLE)\n",
    "        contours_poly = [None] * len(contours)\n",
    "        bound_rect = []\n",
    "\n",
    "        for i, c in enumerate(contours):\n",
    "            if heirarchy[0][i][3] == -1:\n",
    "                contours_poly[i] = cv2.approxPolyDP(c, 3, True)\n",
    "                bound_rect.append(cv2.boundingRect(contours_poly[i]))\n",
    "\n",
    "        bound_rect.sort(key=lambda x: -x[2] * x[3])\n",
    "        bound_rect = bound_rect[0:10]\n",
    "        bound_rect.sort(key=lambda x : x[0])\n",
    "\n",
    "        image_list_digits = []\n",
    "        digits_list = []\n",
    "\n",
    "        i = 0\n",
    "        for box in bound_rect:\n",
    "            x, y, h, w = box\n",
    "            if(x > 1 and y > 1):\n",
    "                imgTemp = rescale(image_copy[int(y - 1) : int(y + w + 1), int(x - 1) : int(x + h + 1)])\n",
    "            elif(x > 2 and y > 2):\n",
    "                imgTemp = rescale(image_copy[int(y - 2) : int(y + w + 2), int(x - 2) : int(x + h + 2)])\n",
    "            else:\n",
    "                imgTemp = rescale(image_copy[int(y) : int(y + w), int(x) : int(x + h)])\n",
    "            image_list_digits.append(imgTemp)\n",
    "            digits_list.append(int(phone_number[i]))\n",
    "            i+=1\n",
    "            \n",
    "        image_list_digits = np.array(image_list_digits)\n",
    "\n",
    "        for i in range(10):\n",
    "            sample_Temp = image_list_digits[i]\n",
    "            for j, fx in enumerate([MedianFilter(), Rescale((28, 28)), Gray_scale_to_Binary()]):\n",
    "                transformed_img = fx(sample_Temp)\n",
    "                sample_Temp = transformed_img\n",
    "            image_list_digits[i] = sample_Temp\n",
    "                \n",
    "\n",
    "        return {'digit_Images_list': image_list_digits, 'digits_list': digits_list}\n",
    "\n",
    "class ToTensor(object):\n",
    "    def __call__(self, sample):\n",
    "        digit_Images_list, digits_list = sample['digit_Images_list'], sample['digits_list']\n",
    "        image_copy = np.copy(digit_Images_list)\n",
    "        # image_copy = image_copy.transpose((2, 0, 1))\n",
    "        return{'image': torch.from_numpy(image_copy), 'digits_list': digits_list}"
   ]
  },
  {
   "cell_type": "markdown",
   "metadata": {},
   "source": [
    "# Test out the transforms"
   ]
  },
  {
   "cell_type": "code",
   "execution_count": 13,
   "metadata": {},
   "outputs": [
    {
     "name": "stdout",
     "output_type": "stream",
     "text": [
      "10\n"
     ]
    },
    {
     "data": {
      "image/png": "[encoded data removed]",
      "text/plain": [
       "<Figure size 432x288 with 1 Axes>"
      ]
     },
     "metadata": {
      "needs_background": "light"
     },
     "output_type": "display_data"
    },
    {
     "data": {
      "image/png": "[encoded data removed]",
      "text/plain": [
       "<Figure size 1440x720 with 10 Axes>"
      ]
     },
     "metadata": {
      "needs_background": "light"
     },
     "output_type": "display_data"
    }
   ],
   "source": [
    "composed = transforms.Compose([Gray_scale_Image(), Gray_scale_to_Binary(), BoundingBoxes()])\n",
    "\n",
    "test_num = 550\n",
    "sample = Number_dataset[test_num]\n",
    "show_Image(sample['image'])\n",
    "transformed_sample = composed(sample)\n",
    "digit_image_list = transformed_sample['digit_Images_list']\n",
    "digit_list = transformed_sample['digits_list']\n",
    "print(len(digit_image_list))\n",
    "fig = plt.figure(figsize=(20, 10))\n",
    "for i, img in enumerate(digit_image_list):\n",
    "    ax = plt.subplot(1, 10, i + 1)\n",
    "    plt.tight_layout()\n",
    "    ax.set_title(digit_list[i])\n",
    "    show_Image(digit_image_list[i])\n",
    "plt.show()\n"
   ]
  },
  {
   "cell_type": "markdown",
   "metadata": {},
   "source": [
    "## Create the trandsformed dataset"
   ]
  },
  {
   "cell_type": "code",
   "execution_count": 14,
   "metadata": {},
   "outputs": [],
   "source": [
    "data_transform = transforms.Compose([Gray_scale_Image(), Gray_scale_to_Binary(), BoundingBoxes(), ToTensor()])\n",
    "transformed_Number_dataset = PhoneNumberDataset(csv_file='data\\phone_numbers_dataset.csv',\n",
    "                                                root_dir='data\\phone_number_images\\\\',\n",
    "                                                transform=data_transform)\n"
   ]
  },
  {
   "cell_type": "code",
   "execution_count": 15,
   "metadata": {},
   "outputs": [
    {
     "name": "stdout",
     "output_type": "stream",
     "text": [
      "Number of images:  40000\n",
      "0 torch.Size([10, 28, 28])\n",
      "1 torch.Size([10, 28, 28])\n",
      "2 torch.Size([10, 28, 28])\n",
      "3 torch.Size([10, 28, 28])\n",
      "4 torch.Size([10, 28, 28])\n"
     ]
    }
   ],
   "source": [
    "print('Number of images: ', len(transformed_Number_dataset))\n",
    "for i in range(5):\n",
    "    sample = transformed_Number_dataset[i]\n",
    "    print(i, sample['image'].size())"
   ]
  },
  {
   "cell_type": "code",
   "execution_count": 16,
   "metadata": {},
   "outputs": [
    {
     "data": {
      "image/png": "[encoded data removed]",
      "text/plain": [
       "<Figure size 432x288 with 1 Axes>"
      ]
     },
     "metadata": {
      "needs_background": "light"
     },
     "output_type": "display_data"
    }
   ],
   "source": [
    "gray = Gray_scale_Image()\n",
    "def bounding_boxes(img):\n",
    "    contours, heirarchy = cv2.findContours(img, cv2.RETR_CCOMP, cv2.CHAIN_APPROX_SIMPLE)\n",
    "    contours_poly = [None] * len(contours)\n",
    "    bound_rect = []\n",
    "\n",
    "    for i, c in enumerate(contours):\n",
    "        if heirarchy[0][i][3] == -1:\n",
    "            contours_poly[i] = cv2.approxPolyDP(c, 3, True)\n",
    "            bound_rect.append(cv2.boundingRect(contours_poly[i]))\n",
    "\n",
    "    for i in range(len(bound_rect)):\n",
    "        color = (255, 0)\n",
    "        cv2.rectangle(img, (int(bound_rect[i][0]), int(bound_rect[i][1])), \n",
    "              (int(bound_rect[i][0] + bound_rect[i][2]), int(bound_rect[i][1] + bound_rect[i][3])), color, 1)\n",
    "    return img, bound_rect\n",
    "\n",
    "sample = Number_dataset[550]\n",
    "sample = gray(sample)\n",
    "img1 = sample['image']\n",
    "img1, _ = bounding_boxes(img1)\n",
    "plt.imshow(img1, cmap='gray')\n",
    "plt.show()"
   ]
  }
 ],
 "metadata": {
  "kernelspec": {
   "display_name": "Python 3.8.5 ('base')",
   "language": "python",
   "name": "python3"
  },
  "language_info": {
   "codemirror_mode": {
    "name": "ipython",
    "version": 3
   },
   "file_extension": ".py",
   "mimetype": "text/x-python",
   "name": "python",
   "nbconvert_exporter": "python",
   "pygments_lexer": "ipython3",
   "version": "3.8.5"
  },
  "orig_nbformat": 4,
  "vscode": {
   "interpreter": {
    "hash": "0bc6de047e58dac5738e6fd71455bb891a228ea6d3201e9c8a63259fc0a2df17"
   }
  }
 },
 "nbformat": 4,
 "nbformat_minor": 2
}
